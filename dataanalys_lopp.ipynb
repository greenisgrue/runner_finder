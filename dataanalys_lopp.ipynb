{
 "cells": [
  {
   "cell_type": "code",
   "execution_count": 3,
   "id": "dc897650",
   "metadata": {},
   "outputs": [],
   "source": [
    "import pyodbc \n",
    "import numpy as np\n",
    "import pandas as pd\n",
    "import matplotlib.pyplot as plt\n",
    "plt.rcParams['figure.figsize'] = [15, 5]"
   ]
  },
  {
   "cell_type": "code",
   "execution_count": 4,
   "id": "369415d2",
   "metadata": {},
   "outputs": [],
   "source": [
    "conn = pyodbc.connect('Driver={SQL Server};'\n",
    "                      'Server=DESKTOP-0GVNKEJ\\SQLEXPRESS;'\n",
    "                      'Database=RaceData;'\n",
    "                      'Trusted_Connection=yes;')"
   ]
  },
  {
   "cell_type": "code",
   "execution_count": 5,
   "id": "11528ae4",
   "metadata": {},
   "outputs": [],
   "source": [
    "race_id_LL15 = '20004696', '10004696', '20004770', '10004770', '20003316', '10003316', '20001441', '10001441', '1786', '1765', '1944', '1940', '20002207', '10002207', '20002037', '10002037', '20001892', '10001892', '20002288', '10002288', '20002589', '10002589', '20002738', '10002738', '20002467', '10002467', '20002409', '10002409', '20002390', '10002390', '20002754', '10002754', '20002739', '10002739', '20002711', '10002711', '20002710', '10002710', '20002985', '10002985', '2932', '2949', '2936', '2950', '2918', '2922', '3086', '3089', '3090', '3092', '3071'\n",
    "race_id_LL30 = '20004697', '10004697', '20004771', '10004771', '20003317', '10003317', '20001437', '10001437', '1506', '1507', '1540', '1554', '1544', '1555', '1549', '1553', '1551', '1552', '1626', '1984', '2015', '2183', '2233', '2182', '2234', '2185', '2228', '2179', '2220', '2184', '2219', '2422', '2475', '2545', '2553', '2544', '2552', '2549', '2554', '2828', '2832', '2816', '2826', '2834', '2817', '2829', '2818', '2825', '2820', '2830', '2997', '3006', '2998', '3005', '2999', '3004', '3000', '3003', '3001', '3002'\n"
   ]
  },
  {
   "cell_type": "code",
   "execution_count": 6,
   "id": "0630a01e",
   "metadata": {},
   "outputs": [],
   "source": [
    "df_15 = pd.DataFrame()\n",
    "\n",
    "for race in race_id_LL15:\n",
    "    runners = pd.read_sql_query(f'SELECT COUNT(*) FROM RaceData.dbo.RaceData WHERE RaceID={race}',conn)\n",
    "    year = pd.read_sql_query(f'SELECT Year FROM RaceData.dbo.Race WHERE RaceID={race}',conn)\n",
    "    gender = pd.read_sql_query(f'SELECT Gender FROM RaceData.dbo.Race WHERE RaceID={race}' ,conn)\n",
    "    new_row = {'Year':year.iloc[0]['Year'], 'Gender':gender.iloc[0]['Gender'], 'Runners':runners.iloc[0][0]}\n",
    "    df_15 = df_15.append(new_row, ignore_index=True)\n",
    "\n",
    "years = df_15.Year.unique()\n",
    "df_prop_15 = pd.DataFrame()\n",
    "\n",
    "for year in years:\n",
    "    total_w = df_15.loc[(df_15['Gender'] == 'W') & (df_15['Year'] == year), 'Runners'].sum()\n",
    "    total_m = df_15.loc[(df_15['Gender'] == 'M') & (df_15['Year'] == year), 'Runners'].sum()\n",
    "    prop_m = total_m/(total_w + total_m)\n",
    "    prop_w = total_w/(total_w + total_m)\n",
    "    if prop_m != 0:\n",
    "        new_row = {'Year':year, 'total_m':total_m, 'total_w':total_w, 'Proportion_M':prop_m, 'Proportion_W':prop_w}\n",
    "        df_prop_15 = df_prop_15.append(new_row, ignore_index=True)\n",
    "    df_prop_15['Year'] = df_prop_15['Year'].astype(np.int64)\n"
   ]
  },
  {
   "cell_type": "code",
   "execution_count": 10,
   "id": "69684e0f",
   "metadata": {},
   "outputs": [
    {
     "ename": "AttributeError",
     "evalue": "'DataFrame' object has no attribute 'Year'",
     "output_type": "error",
     "traceback": [
      "\u001b[1;31m---------------------------------------------------------------------------\u001b[0m",
      "\u001b[1;31mAttributeError\u001b[0m                            Traceback (most recent call last)",
      "\u001b[1;32m<ipython-input-10-f913ae423956>\u001b[0m in \u001b[0;36m<module>\u001b[1;34m\u001b[0m\n\u001b[0;32m      9\u001b[0m         \u001b[0mdf_30\u001b[0m \u001b[1;33m=\u001b[0m \u001b[0mdf_30\u001b[0m\u001b[1;33m.\u001b[0m\u001b[0mappend\u001b[0m\u001b[1;33m(\u001b[0m\u001b[0mnew_row\u001b[0m\u001b[1;33m,\u001b[0m \u001b[0mignore_index\u001b[0m\u001b[1;33m=\u001b[0m\u001b[1;32mTrue\u001b[0m\u001b[1;33m)\u001b[0m\u001b[1;33m\u001b[0m\u001b[1;33m\u001b[0m\u001b[0m\n\u001b[0;32m     10\u001b[0m \u001b[1;33m\u001b[0m\u001b[0m\n\u001b[1;32m---> 11\u001b[1;33m \u001b[0myears\u001b[0m \u001b[1;33m=\u001b[0m \u001b[0mdf_30\u001b[0m\u001b[1;33m.\u001b[0m\u001b[0mYear\u001b[0m\u001b[1;33m.\u001b[0m\u001b[0munique\u001b[0m\u001b[1;33m(\u001b[0m\u001b[1;33m)\u001b[0m\u001b[1;33m\u001b[0m\u001b[1;33m\u001b[0m\u001b[0m\n\u001b[0m\u001b[0;32m     12\u001b[0m \u001b[0mdf_prop_30\u001b[0m \u001b[1;33m=\u001b[0m \u001b[0mpd\u001b[0m\u001b[1;33m.\u001b[0m\u001b[0mDataFrame\u001b[0m\u001b[1;33m(\u001b[0m\u001b[1;33m)\u001b[0m\u001b[1;33m\u001b[0m\u001b[1;33m\u001b[0m\u001b[0m\n\u001b[0;32m     13\u001b[0m \u001b[1;33m\u001b[0m\u001b[0m\n",
      "\u001b[1;32mC:\\ProgramData\\Anaconda3\\lib\\site-packages\\pandas\\core\\generic.py\u001b[0m in \u001b[0;36m__getattr__\u001b[1;34m(self, name)\u001b[0m\n\u001b[0;32m   5463\u001b[0m             \u001b[1;32mif\u001b[0m \u001b[0mself\u001b[0m\u001b[1;33m.\u001b[0m\u001b[0m_info_axis\u001b[0m\u001b[1;33m.\u001b[0m\u001b[0m_can_hold_identifiers_and_holds_name\u001b[0m\u001b[1;33m(\u001b[0m\u001b[0mname\u001b[0m\u001b[1;33m)\u001b[0m\u001b[1;33m:\u001b[0m\u001b[1;33m\u001b[0m\u001b[1;33m\u001b[0m\u001b[0m\n\u001b[0;32m   5464\u001b[0m                 \u001b[1;32mreturn\u001b[0m \u001b[0mself\u001b[0m\u001b[1;33m[\u001b[0m\u001b[0mname\u001b[0m\u001b[1;33m]\u001b[0m\u001b[1;33m\u001b[0m\u001b[1;33m\u001b[0m\u001b[0m\n\u001b[1;32m-> 5465\u001b[1;33m             \u001b[1;32mreturn\u001b[0m \u001b[0mobject\u001b[0m\u001b[1;33m.\u001b[0m\u001b[0m__getattribute__\u001b[0m\u001b[1;33m(\u001b[0m\u001b[0mself\u001b[0m\u001b[1;33m,\u001b[0m \u001b[0mname\u001b[0m\u001b[1;33m)\u001b[0m\u001b[1;33m\u001b[0m\u001b[1;33m\u001b[0m\u001b[0m\n\u001b[0m\u001b[0;32m   5466\u001b[0m \u001b[1;33m\u001b[0m\u001b[0m\n\u001b[0;32m   5467\u001b[0m     \u001b[1;32mdef\u001b[0m \u001b[0m__setattr__\u001b[0m\u001b[1;33m(\u001b[0m\u001b[0mself\u001b[0m\u001b[1;33m,\u001b[0m \u001b[0mname\u001b[0m\u001b[1;33m:\u001b[0m \u001b[0mstr\u001b[0m\u001b[1;33m,\u001b[0m \u001b[0mvalue\u001b[0m\u001b[1;33m)\u001b[0m \u001b[1;33m->\u001b[0m \u001b[1;32mNone\u001b[0m\u001b[1;33m:\u001b[0m\u001b[1;33m\u001b[0m\u001b[1;33m\u001b[0m\u001b[0m\n",
      "\u001b[1;31mAttributeError\u001b[0m: 'DataFrame' object has no attribute 'Year'"
     ]
    }
   ],
   "source": [
    "df_30 = pd.DataFrame()\n",
    "\n",
    "for race in race_id_LL30:\n",
    "    runners = pd.read_sql_query(f'SELECT COUNT(*) FROM RaceData.dbo.RaceData WHERE RaceID={race}',conn)\n",
    "    year = pd.read_sql_query(f'SELECT Year FROM RaceData.dbo.Race WHERE RaceID={race}',conn)\n",
    "    gender = pd.read_sql_query(f'SELECT Gender FROM RaceData.dbo.Race WHERE RaceID={race}' ,conn)\n",
    "    if runners.iloc[0][0] > 0:\n",
    "        new_row = {'Year':year.iloc[0]['Year'], 'Gender':gender.iloc[0]['Gender'], 'Runners':runners.iloc[0][0]}\n",
    "        df_30 = df_30.append(new_row, ignore_index=True)\n",
    "\n",
    "years = df_30.Year.unique() \n",
    "df_prop_30 = pd.DataFrame()\n",
    "\n",
    "for year in years:\n",
    "    total_w = df_30.loc[(df_30['Gender'] == 'W') & (df_30['Year'] == year), 'Runners'].sum()\n",
    "    total_m = df_30.loc[(df_30['Gender'] == 'M') & (df_30['Year'] == year), 'Runners'].sum()\n",
    "    prop_m = total_m/(total_w + total_m)\n",
    "    prop_w = total_w/(total_w + total_m)\n",
    "    if prop_m != 0:\n",
    "        new_row = {'Year':year, 'total_m':total_m, 'total_w':total_w, 'Proportion_M':prop_m, 'Proportion_W':prop_w}\n",
    "        df_prop_30 = df_prop_30.append(new_row, ignore_index=True)\n",
    "    df_prop_30['Year'] = df_prop_30['Year'].astype(np.int64)\n"
   ]
  },
  {
   "cell_type": "markdown",
   "id": "a06bef45",
   "metadata": {},
   "source": [
    "# Antal och andel kvinnor/män som sprungit Lidingöloppet 15K/30K"
   ]
  },
  {
   "cell_type": "code",
   "execution_count": 11,
   "id": "88fdd268",
   "metadata": {},
   "outputs": [
    {
     "ename": "NameError",
     "evalue": "name 'df_prop_30' is not defined",
     "output_type": "error",
     "traceback": [
      "\u001b[1;31m---------------------------------------------------------------------------\u001b[0m",
      "\u001b[1;31mNameError\u001b[0m                                 Traceback (most recent call last)",
      "\u001b[1;32m<ipython-input-11-046bb16a249d>\u001b[0m in \u001b[0;36m<module>\u001b[1;34m\u001b[0m\n\u001b[0;32m      1\u001b[0m \u001b[0mplt\u001b[0m\u001b[1;33m.\u001b[0m\u001b[0msubplot\u001b[0m\u001b[1;33m(\u001b[0m\u001b[1;36m1\u001b[0m\u001b[1;33m,\u001b[0m\u001b[1;36m2\u001b[0m\u001b[1;33m,\u001b[0m\u001b[1;36m1\u001b[0m\u001b[1;33m)\u001b[0m\u001b[1;33m\u001b[0m\u001b[1;33m\u001b[0m\u001b[0m\n\u001b[1;32m----> 2\u001b[1;33m \u001b[0mx1\u001b[0m \u001b[1;33m=\u001b[0m \u001b[0mdf_prop_30\u001b[0m\u001b[1;33m[\u001b[0m\u001b[1;34m'Year'\u001b[0m\u001b[1;33m]\u001b[0m\u001b[1;33m\u001b[0m\u001b[1;33m\u001b[0m\u001b[0m\n\u001b[0m\u001b[0;32m      3\u001b[0m \u001b[0mx2\u001b[0m \u001b[1;33m=\u001b[0m \u001b[0mdf_prop_15\u001b[0m\u001b[1;33m[\u001b[0m\u001b[1;34m'Year'\u001b[0m\u001b[1;33m]\u001b[0m\u001b[1;33m\u001b[0m\u001b[1;33m\u001b[0m\u001b[0m\n\u001b[0;32m      4\u001b[0m \u001b[0my1\u001b[0m \u001b[1;33m=\u001b[0m \u001b[0mdf_prop_30\u001b[0m\u001b[1;33m[\u001b[0m\u001b[1;34m'total_m'\u001b[0m\u001b[1;33m]\u001b[0m\u001b[1;33m\u001b[0m\u001b[1;33m\u001b[0m\u001b[0m\n\u001b[0;32m      5\u001b[0m \u001b[0my2\u001b[0m \u001b[1;33m=\u001b[0m \u001b[0mdf_prop_15\u001b[0m\u001b[1;33m[\u001b[0m\u001b[1;34m'total_m'\u001b[0m\u001b[1;33m]\u001b[0m\u001b[1;33m\u001b[0m\u001b[1;33m\u001b[0m\u001b[0m\n",
      "\u001b[1;31mNameError\u001b[0m: name 'df_prop_30' is not defined"
     ]
    },
    {
     "data": {
      "image/png": "[encoded data removed]",
      "text/plain": [
       "<Figure size 1080x360 with 1 Axes>"
      ]
     },
     "metadata": {
      "needs_background": "light"
     },
     "output_type": "display_data"
    }
   ],
   "source": [
    "plt.subplot(1,2,1)\n",
    "x1 = df_prop_30['Year']\n",
    "x2 = df_prop_15['Year']\n",
    "y1 = df_prop_30['total_m']\n",
    "y2 = df_prop_15['total_m']\n",
    "plt.plot(x1,y1, label=\"30K\")\n",
    "plt.plot(x2,y2, label=\"15K\")\n",
    "plt.xticks(range(df_prop_30['Year'].min(),df_prop_30['Year'].max(),2))\n",
    "plt.title(\"Totalt Män 15K/30K\")\n",
    "plt.xlabel(\"Year\")\n",
    "plt.ylabel(\"Total Men\")\n",
    "leg = plt.legend();\n",
    "\n",
    "plt.subplot(1,2,2)\n",
    "x1 = df_prop_30['Year']\n",
    "x2 = df_prop_15['Year']\n",
    "y1 = df_prop_30['total_w']\n",
    "y2 = df_prop_15['total_w']\n",
    "plt.plot(x1,y1, label=\"30K\")\n",
    "plt.plot(x2,y2, label=\"15K\")\n",
    "plt.xticks(range(df_prop_30['Year'].min(),df_prop_30['Year'].max(),2))\n",
    "plt.title(\"Totalt Kvinnor 15K/30K\")\n",
    "plt.xlabel(\"Year\")\n",
    "plt.ylabel(\"Total Men\")\n",
    "leg = plt.legend();\n",
    "plt.show()\n",
    "\n",
    "plt.subplot(1,2,1)\n",
    "x1 = df_prop_30['Year']\n",
    "x2 = df_prop_15['Year']\n",
    "y1 = df_prop_30['Proportion_M']\n",
    "y2 = df_prop_15['Proportion_M']\n",
    "plt.plot(x1,y1, label=\"30K\")\n",
    "plt.plot(x2,y2, label=\"15K\")\n",
    "plt.xticks(range(df_prop_30['Year'].min(),df_prop_30['Year'].max(),2))\n",
    "plt.title(\"Andel Män 15K/30K\")\n",
    "plt.xlabel(\"Year\")\n",
    "plt.ylabel(\"Total Men\")\n",
    "leg = plt.legend();\n",
    "\n",
    "plt.subplot(1,2,2)\n",
    "x1 = df_prop_30['Year']\n",
    "x2 = df_prop_15['Year']\n",
    "y1 = df_prop_30['Proportion_W']\n",
    "y2 = df_prop_15['Proportion_W']\n",
    "plt.plot(x1,y1, label=\"30K\")\n",
    "plt.plot(x2,y2, label=\"15K\")\n",
    "plt.xticks(range(df_prop_30['Year'].min(),df_prop_30['Year'].max(),2))\n",
    "plt.title(\"Andel Kvinnor 15K/30K\")\n",
    "plt.xlabel(\"Year\")\n",
    "plt.ylabel(\"Total Men\")\n",
    "leg = plt.legend();\n",
    "plt.show()\n"
   ]
  },
  {
   "cell_type": "markdown",
   "id": "f347e2d1",
   "metadata": {},
   "source": [
    "# Time range"
   ]
  },
  {
   "cell_type": "markdown",
   "id": "0106b1a5",
   "metadata": {},
   "source": [
    "## Jämföra elittider över tid mot motionärstider över tid\n",
    "1. Genomsnitt av topp 10 för varje år\n",
    "    a. Hämta race data för varje år\n",
    "    b. Plocka ut place 1-10\n",
    "    c. Spara i df med col year, gender och avg elite time\n",
    "2. Vilken tid för att bli top 5 % för varje år\n",
    "3. Vilken tid för att bli 50 % för varje år"
   ]
  },
  {
   "cell_type": "code",
   "execution_count": 32,
   "id": "c8fe2f1b",
   "metadata": {},
   "outputs": [],
   "source": [
    "def get_times(race_id_list):\n",
    "    race_id = race_id_list\n",
    "    df = pd.DataFrame()\n",
    "\n",
    "    for race in race_id:\n",
    "        year = pd.read_sql_query(f'SELECT Year FROM RaceData.dbo.Race WHERE RaceID={race}',conn)\n",
    "        gender = pd.read_sql_query(f'SELECT Gender FROM RaceData.dbo.Race WHERE RaceID={race}' ,conn)\n",
    "        runners = pd.read_sql_query(f'SELECT COUNT(*) FROM RaceData.dbo.RaceData WHERE RaceID={race}',conn)\n",
    "        avg_elite = pd.read_sql_query(f'SELECT Time FROM RaceData.dbo.RaceData WHERE (RaceID={race}) AND (Place BETWEEN 1 AND 10)' ,conn)\n",
    "        avg_sub_elite = pd.read_sql_query(f'SELECT Time FROM RaceData.dbo.RaceData WHERE (RaceID={race}) AND (Place=FLOOR({runners.iloc[0][0]}*0.05))' ,conn)\n",
    "        avg_jogger = pd.read_sql_query(f'SELECT Time FROM RaceData.dbo.RaceData WHERE (RaceID={race}) AND (Place=FLOOR({runners.iloc[0][0]}*0.5))' ,conn)\n",
    "        \n",
    "        i = 1\n",
    "        while avg_sub_elite.empty:\n",
    "            avg_sub_elite = pd.read_sql_query(f'SELECT Time FROM RaceData.dbo.RaceData WHERE (RaceID={race}) AND (Place=FLOOR({runners.iloc[0][0]}*0.05)+{i})' ,conn)\n",
    "            i += 1\n",
    "        \n",
    "        j = 1\n",
    "        while avg_jogger.empty:\n",
    "            avg_jogger = pd.read_sql_query(f'SELECT Time FROM RaceData.dbo.RaceData WHERE (RaceID={race}) AND (Place=FLOOR({runners.iloc[0][0]}*0.5)+{j})' ,conn)\n",
    "            j += 1\n",
    "        \n",
    "        avg_elite[\"Time\"] = pd.to_datetime(avg_elite[\"Time\"])\n",
    "        avg_elite = avg_elite['Time'].mean()\n",
    "        if pd.isna(avg_elite):\n",
    "            avg_elite = None\n",
    "        else:\n",
    "            avg_elite = avg_elite.time()\n",
    "            avg_elite = avg_elite.strftime('%H:%M:%S.%f')\n",
    "            avg_elite = avg_elite[:-7]\n",
    "\n",
    "        new_row = {'Year':year.iloc[0]['Year'], 'Gender':gender.iloc[0]['Gender'], 'AVG_ELITE':avg_elite, 'AVG_SUB_ELITE':avg_sub_elite.iloc[0][0], 'AVG_JOGGER':avg_jogger.iloc[0][0]}\n",
    "        if year.iloc[0]['Year'] != 2020:\n",
    "            df = df.append(new_row, ignore_index=True)\n",
    "        \n",
    "    df = df[['Year', 'Gender', 'AVG_JOGGER', 'AVG_SUB_ELITE', 'AVG_ELITE']]\n",
    "    \n",
    "    return df"
   ]
  },
  {
   "cell_type": "code",
   "execution_count": 67,
   "id": "ca20209c",
   "metadata": {},
   "outputs": [
    {
     "ename": "AttributeError",
     "evalue": "'Series' object has no attribute 'datetime'",
     "output_type": "error",
     "traceback": [
      "\u001b[1;31m---------------------------------------------------------------------------\u001b[0m",
      "\u001b[1;31mAttributeError\u001b[0m                            Traceback (most recent call last)",
      "\u001b[1;32m<ipython-input-67-c570235f23e2>\u001b[0m in \u001b[0;36m<module>\u001b[1;34m\u001b[0m\n\u001b[0;32m      1\u001b[0m \u001b[1;32mimport\u001b[0m \u001b[0mmatplotlib\u001b[0m\u001b[1;33m.\u001b[0m\u001b[0mdates\u001b[0m \u001b[1;32mas\u001b[0m \u001b[0mmdates\u001b[0m\u001b[1;33m\u001b[0m\u001b[1;33m\u001b[0m\u001b[0m\n\u001b[0;32m      2\u001b[0m \u001b[1;33m\u001b[0m\u001b[0m\n\u001b[1;32m----> 3\u001b[1;33m \u001b[0mx_values\u001b[0m \u001b[1;33m=\u001b[0m \u001b[1;33m[\u001b[0m\u001b[0mdatetime\u001b[0m\u001b[1;33m.\u001b[0m\u001b[0mdatetime\u001b[0m\u001b[1;33m.\u001b[0m\u001b[0mstrptime\u001b[0m\u001b[1;33m(\u001b[0m\u001b[0md\u001b[0m\u001b[1;33m,\u001b[0m\u001b[1;34m\"%m/%d/%Y\"\u001b[0m\u001b[1;33m)\u001b[0m\u001b[1;33m.\u001b[0m\u001b[0mdt\u001b[0m\u001b[1;33m.\u001b[0m\u001b[0mdate\u001b[0m\u001b[1;33m(\u001b[0m\u001b[1;33m)\u001b[0m \u001b[1;32mfor\u001b[0m \u001b[0md\u001b[0m \u001b[1;32min\u001b[0m \u001b[0mdates\u001b[0m\u001b[1;33m]\u001b[0m\u001b[1;33m\u001b[0m\u001b[1;33m\u001b[0m\u001b[0m\n\u001b[0m\u001b[0;32m      4\u001b[0m \u001b[1;33m\u001b[0m\u001b[0m\n\u001b[0;32m      5\u001b[0m \u001b[0mprint\u001b[0m\u001b[1;33m(\u001b[0m\u001b[0mx_values\u001b[0m\u001b[1;33m)\u001b[0m\u001b[1;33m\u001b[0m\u001b[1;33m\u001b[0m\u001b[0m\n",
      "\u001b[1;32m<ipython-input-67-c570235f23e2>\u001b[0m in \u001b[0;36m<listcomp>\u001b[1;34m(.0)\u001b[0m\n\u001b[0;32m      1\u001b[0m \u001b[1;32mimport\u001b[0m \u001b[0mmatplotlib\u001b[0m\u001b[1;33m.\u001b[0m\u001b[0mdates\u001b[0m \u001b[1;32mas\u001b[0m \u001b[0mmdates\u001b[0m\u001b[1;33m\u001b[0m\u001b[1;33m\u001b[0m\u001b[0m\n\u001b[0;32m      2\u001b[0m \u001b[1;33m\u001b[0m\u001b[0m\n\u001b[1;32m----> 3\u001b[1;33m \u001b[0mx_values\u001b[0m \u001b[1;33m=\u001b[0m \u001b[1;33m[\u001b[0m\u001b[0mdatetime\u001b[0m\u001b[1;33m.\u001b[0m\u001b[0mdatetime\u001b[0m\u001b[1;33m.\u001b[0m\u001b[0mstrptime\u001b[0m\u001b[1;33m(\u001b[0m\u001b[0md\u001b[0m\u001b[1;33m,\u001b[0m\u001b[1;34m\"%m/%d/%Y\"\u001b[0m\u001b[1;33m)\u001b[0m\u001b[1;33m.\u001b[0m\u001b[0mdt\u001b[0m\u001b[1;33m.\u001b[0m\u001b[0mdate\u001b[0m\u001b[1;33m(\u001b[0m\u001b[1;33m)\u001b[0m \u001b[1;32mfor\u001b[0m \u001b[0md\u001b[0m \u001b[1;32min\u001b[0m \u001b[0mdates\u001b[0m\u001b[1;33m]\u001b[0m\u001b[1;33m\u001b[0m\u001b[1;33m\u001b[0m\u001b[0m\n\u001b[0m\u001b[0;32m      4\u001b[0m \u001b[1;33m\u001b[0m\u001b[0m\n\u001b[0;32m      5\u001b[0m \u001b[0mprint\u001b[0m\u001b[1;33m(\u001b[0m\u001b[0mx_values\u001b[0m\u001b[1;33m)\u001b[0m\u001b[1;33m\u001b[0m\u001b[1;33m\u001b[0m\u001b[0m\n",
      "\u001b[1;32mC:\\ProgramData\\Anaconda3\\lib\\site-packages\\pandas\\core\\generic.py\u001b[0m in \u001b[0;36m__getattr__\u001b[1;34m(self, name)\u001b[0m\n\u001b[0;32m   5463\u001b[0m             \u001b[1;32mif\u001b[0m \u001b[0mself\u001b[0m\u001b[1;33m.\u001b[0m\u001b[0m_info_axis\u001b[0m\u001b[1;33m.\u001b[0m\u001b[0m_can_hold_identifiers_and_holds_name\u001b[0m\u001b[1;33m(\u001b[0m\u001b[0mname\u001b[0m\u001b[1;33m)\u001b[0m\u001b[1;33m:\u001b[0m\u001b[1;33m\u001b[0m\u001b[1;33m\u001b[0m\u001b[0m\n\u001b[0;32m   5464\u001b[0m                 \u001b[1;32mreturn\u001b[0m \u001b[0mself\u001b[0m\u001b[1;33m[\u001b[0m\u001b[0mname\u001b[0m\u001b[1;33m]\u001b[0m\u001b[1;33m\u001b[0m\u001b[1;33m\u001b[0m\u001b[0m\n\u001b[1;32m-> 5465\u001b[1;33m             \u001b[1;32mreturn\u001b[0m \u001b[0mobject\u001b[0m\u001b[1;33m.\u001b[0m\u001b[0m__getattribute__\u001b[0m\u001b[1;33m(\u001b[0m\u001b[0mself\u001b[0m\u001b[1;33m,\u001b[0m \u001b[0mname\u001b[0m\u001b[1;33m)\u001b[0m\u001b[1;33m\u001b[0m\u001b[1;33m\u001b[0m\u001b[0m\n\u001b[0m\u001b[0;32m   5466\u001b[0m \u001b[1;33m\u001b[0m\u001b[0m\n\u001b[0;32m   5467\u001b[0m     \u001b[1;32mdef\u001b[0m \u001b[0m__setattr__\u001b[0m\u001b[1;33m(\u001b[0m\u001b[0mself\u001b[0m\u001b[1;33m,\u001b[0m \u001b[0mname\u001b[0m\u001b[1;33m:\u001b[0m \u001b[0mstr\u001b[0m\u001b[1;33m,\u001b[0m \u001b[0mvalue\u001b[0m\u001b[1;33m)\u001b[0m \u001b[1;33m->\u001b[0m \u001b[1;32mNone\u001b[0m\u001b[1;33m:\u001b[0m\u001b[1;33m\u001b[0m\u001b[1;33m\u001b[0m\u001b[0m\n",
      "\u001b[1;31mAttributeError\u001b[0m: 'Series' object has no attribute 'datetime'"
     ]
    }
   ],
   "source": [
    "import matplotlib.dates as mdates\n",
    "\n",
    "x_values = [datetime.datetime.strptime(d,\"%m/%d/%Y\").dt.date() for d in dates]\n",
    "\n",
    "print(x_values)\n",
    "\n",
    "df = get_times(race_id_LL15)\n",
    "\n",
    "dates = [\"01/02/2020\", \"01/03/2020\", \"01/04/2020\"]\n",
    "\n",
    "\n",
    "\n",
    "\n",
    "datetime = pd.to_datetime(df['AVG_JOGGER'][df['Gender'] == 'M']).dt.time\n",
    "str_time = datetime.astype(str)\n",
    "str_time = str_time.tolist()\n",
    "print(str_time)\n",
    "\n",
    "matplot_time = [datetime.datetime.strptime(d,\"%H:%M:%S\").time() for d in str_time]\n",
    "print(matplot_time)\n",
    "\n",
    "plt.subplot(1,2,1)\n",
    "x1 = df['Year'][df['Gender'] == 'M']\n",
    "y1 = matplot_time\n",
    "plt.plot(x1,y1, label=\"30K\")\n",
    "plt.title(\"Totalt Män 15K/30K\")\n",
    "plt.xlabel(\"Year\")\n",
    "plt.ylabel(\"Total Men\")\n",
    "leg = plt.legend()\n",
    "plt.show()"
   ]
  },
  {
   "cell_type": "code",
   "execution_count": null,
   "id": "e28ffe9a",
   "metadata": {},
   "outputs": [],
   "source": []
  },
  {
   "cell_type": "markdown",
   "id": "fed840bd",
   "metadata": {},
   "source": [
    "## Vilket år hade minst/mest konkurrens?"
   ]
  }
 ],
 "metadata": {
  "kernelspec": {
   "display_name": "Python 3",
   "language": "python",
   "name": "python3"
  },
  "language_info": {
   "codemirror_mode": {
    "name": "ipython",
    "version": 3
   },
   "file_extension": ".py",
   "mimetype": "text/x-python",
   "name": "python",
   "nbconvert_exporter": "python",
   "pygments_lexer": "ipython3",
   "version": "3.8.8"
  }
 },
 "nbformat": 4,
 "nbformat_minor": 5
}
